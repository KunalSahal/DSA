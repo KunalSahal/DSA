{
 "cells": [
  {
   "cell_type": "code",
   "execution_count": 34,
   "id": "1aaae275",
   "metadata": {},
   "outputs": [
    {
     "ename": "IndexError",
     "evalue": "list index out of range",
     "output_type": "error",
     "traceback": [
      "\u001b[31m---------------------------------------------------------------------------\u001b[39m",
      "\u001b[31mIndexError\u001b[39m                                Traceback (most recent call last)",
      "\u001b[36mCell\u001b[39m\u001b[36m \u001b[39m\u001b[32mIn[34]\u001b[39m\u001b[32m, line 26\u001b[39m\n\u001b[32m     23\u001b[39m         Quick_Sort(arr,low,pivot_idx-\u001b[32m1\u001b[39m)\n\u001b[32m     24\u001b[39m         Quick_Sort(arr,pivot_idx+\u001b[32m1\u001b[39m,high)   \n\u001b[32m---> \u001b[39m\u001b[32m26\u001b[39m \u001b[43mQuick_Sort\u001b[49m\u001b[43m(\u001b[49m\u001b[43marr\u001b[49m\u001b[43m)\u001b[49m      \n",
      "\u001b[36mCell\u001b[39m\u001b[36m \u001b[39m\u001b[32mIn[34]\u001b[39m\u001b[32m, line 23\u001b[39m, in \u001b[36mQuick_Sort\u001b[39m\u001b[34m(arr, low, high)\u001b[39m\n\u001b[32m     21\u001b[39m \u001b[38;5;28;01mif\u001b[39;00m(low < high):\n\u001b[32m     22\u001b[39m     pivot_idx = arrangment(arr,low,high) \n\u001b[32m---> \u001b[39m\u001b[32m23\u001b[39m     \u001b[43mQuick_Sort\u001b[49m\u001b[43m(\u001b[49m\u001b[43marr\u001b[49m\u001b[43m,\u001b[49m\u001b[43mlow\u001b[49m\u001b[43m,\u001b[49m\u001b[43mpivot_idx\u001b[49m\u001b[43m-\u001b[49m\u001b[32;43m1\u001b[39;49m\u001b[43m)\u001b[49m\n\u001b[32m     24\u001b[39m     Quick_Sort(arr,pivot_idx+\u001b[32m1\u001b[39m,high)\n",
      "\u001b[36mCell\u001b[39m\u001b[36m \u001b[39m\u001b[32mIn[34]\u001b[39m\u001b[32m, line 23\u001b[39m, in \u001b[36mQuick_Sort\u001b[39m\u001b[34m(arr, low, high)\u001b[39m\n\u001b[32m     21\u001b[39m \u001b[38;5;28;01mif\u001b[39;00m(low < high):\n\u001b[32m     22\u001b[39m     pivot_idx = arrangment(arr,low,high) \n\u001b[32m---> \u001b[39m\u001b[32m23\u001b[39m     \u001b[43mQuick_Sort\u001b[49m\u001b[43m(\u001b[49m\u001b[43marr\u001b[49m\u001b[43m,\u001b[49m\u001b[43mlow\u001b[49m\u001b[43m,\u001b[49m\u001b[43mpivot_idx\u001b[49m\u001b[43m-\u001b[49m\u001b[32;43m1\u001b[39;49m\u001b[43m)\u001b[49m\n\u001b[32m     24\u001b[39m     Quick_Sort(arr,pivot_idx+\u001b[32m1\u001b[39m,high)\n",
      "    \u001b[31m[... skipping similar frames: Quick_Sort at line 23 (3 times)]\u001b[39m\n",
      "\u001b[36mCell\u001b[39m\u001b[36m \u001b[39m\u001b[32mIn[34]\u001b[39m\u001b[32m, line 23\u001b[39m, in \u001b[36mQuick_Sort\u001b[39m\u001b[34m(arr, low, high)\u001b[39m\n\u001b[32m     21\u001b[39m \u001b[38;5;28;01mif\u001b[39;00m(low < high):\n\u001b[32m     22\u001b[39m     pivot_idx = arrangment(arr,low,high) \n\u001b[32m---> \u001b[39m\u001b[32m23\u001b[39m     \u001b[43mQuick_Sort\u001b[49m\u001b[43m(\u001b[49m\u001b[43marr\u001b[49m\u001b[43m,\u001b[49m\u001b[43mlow\u001b[49m\u001b[43m,\u001b[49m\u001b[43mpivot_idx\u001b[49m\u001b[43m-\u001b[49m\u001b[32;43m1\u001b[39;49m\u001b[43m)\u001b[49m\n\u001b[32m     24\u001b[39m     Quick_Sort(arr,pivot_idx+\u001b[32m1\u001b[39m,high)\n",
      "\u001b[36mCell\u001b[39m\u001b[36m \u001b[39m\u001b[32mIn[34]\u001b[39m\u001b[32m, line 22\u001b[39m, in \u001b[36mQuick_Sort\u001b[39m\u001b[34m(arr, low, high)\u001b[39m\n\u001b[32m     20\u001b[39m     high = \u001b[38;5;28mlen\u001b[39m(arr) - \u001b[32m1\u001b[39m\n\u001b[32m     21\u001b[39m \u001b[38;5;28;01mif\u001b[39;00m(low < high):\n\u001b[32m---> \u001b[39m\u001b[32m22\u001b[39m     pivot_idx = \u001b[43marrangment\u001b[49m\u001b[43m(\u001b[49m\u001b[43marr\u001b[49m\u001b[43m,\u001b[49m\u001b[43mlow\u001b[49m\u001b[43m,\u001b[49m\u001b[43mhigh\u001b[49m\u001b[43m)\u001b[49m \n\u001b[32m     23\u001b[39m     Quick_Sort(arr,low,pivot_idx-\u001b[32m1\u001b[39m)\n\u001b[32m     24\u001b[39m     Quick_Sort(arr,pivot_idx+\u001b[32m1\u001b[39m,high)\n",
      "\u001b[36mCell\u001b[39m\u001b[36m \u001b[39m\u001b[32mIn[34]\u001b[39m\u001b[32m, line 14\u001b[39m, in \u001b[36marrangment\u001b[39m\u001b[34m(arr, low, high)\u001b[39m\n\u001b[32m     10\u001b[39m         i+=\u001b[32m1\u001b[39m\n\u001b[32m     12\u001b[39m     \u001b[38;5;66;03m# print(f\"pass {arr[j]} = {arr}\")\u001b[39;00m\n\u001b[32m---> \u001b[39m\u001b[32m14\u001b[39m arr[i] , pivot = pivot , \u001b[43marr\u001b[49m\u001b[43m[\u001b[49m\u001b[43mi\u001b[49m\u001b[43m]\u001b[49m\n\u001b[32m     16\u001b[39m \u001b[38;5;28;01mreturn\u001b[39;00m i\n",
      "\u001b[31mIndexError\u001b[39m: list index out of range"
     ]
    }
   ],
   "source": [
    "arr = [75,20,60,80,100,45,70,105,30,50]\n",
    "\n",
    "def arrangment (arr,low,high):\n",
    "    pivot = arr[high]\n",
    "    i = low\n",
    "    \n",
    "    for j in range(len(arr)):\n",
    "        if arr[j] <= pivot:\n",
    "            arr[i] , arr[j] = arr[j], arr[i]\n",
    "            i+=1\n",
    "           \n",
    "        # print(f\"pass {arr[j]} = {arr}\")\n",
    "            \n",
    "    arr[i] , pivot = pivot , arr[i]\n",
    "    \n",
    "    return i\n",
    "\n",
    "def Quick_Sort(arr,low = 0,high = None):     \n",
    "    if high is None:\n",
    "        high = len(arr) - 1\n",
    "    if(low < high):\n",
    "        pivot_idx = arrangment(arr,low,high) \n",
    "        Quick_Sort(arr,low,pivot_idx-1)\n",
    "        Quick_Sort(arr,pivot_idx+1,high)   \n",
    "    \n",
    "Quick_Sort(arr)      \n",
    "        "
   ]
  },
  {
   "cell_type": "code",
   "execution_count": null,
   "id": "ecfb7d82",
   "metadata": {},
   "outputs": [],
   "source": []
  }
 ],
 "metadata": {
  "kernelspec": {
   "display_name": "Python 3",
   "language": "python",
   "name": "python3"
  },
  "language_info": {
   "codemirror_mode": {
    "name": "ipython",
    "version": 3
   },
   "file_extension": ".py",
   "mimetype": "text/x-python",
   "name": "python",
   "nbconvert_exporter": "python",
   "pygments_lexer": "ipython3",
   "version": "3.12.5"
  }
 },
 "nbformat": 4,
 "nbformat_minor": 5
}
