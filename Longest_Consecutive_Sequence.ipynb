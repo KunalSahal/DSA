{
 "cells": [
  {
   "cell_type": "code",
   "execution_count": null,
   "id": "42e9d74b",
   "metadata": {},
   "outputs": [],
   "source": [
    "num = [\"a\",\"b\"]\n",
    "t = set(num)\n",
    "if num == []:\n",
    "    print(\"empty\")\n",
    "else :\n",
    "    print(t)"
   ]
  },
  {
   "cell_type": "markdown",
   "id": "d4ff22e7",
   "metadata": {},
   "source": [
    "In the below give method :\n",
    "1. sorted() function gives time complexity = o(nlogn) using \n",
    "    Timsort is a hybrid sorting algorithm derived from:\n",
    "        Merge Sort\n",
    "        Insertion Sort\n",
    "2. max(ls) uses linear search O(n) again \n",
    "3. So overall it takes almost 91 ms in leetcode whereas in Solution2\n",
    "4. if num in list_num -> time complexity is O(n) as it is doing linear search "
   ]
  },
  {
   "cell_type": "code",
   "execution_count": null,
   "id": "da280075",
   "metadata": {},
   "outputs": [],
   "source": [
    "class Solution1:\n",
    "    def longestConsecutive1(self, nums) :# List[int]) -> int:\n",
    "        if nums == []:\n",
    "            return 0\n",
    "        temp = sorted(nums) # imp difference \n",
    "        print(temp)\n",
    "        ls = []\n",
    "        flag = 1\n",
    "        for i in range(len(temp)):\n",
    "            if i == (len(temp)-1):\n",
    "                ls.append(flag)\n",
    "                break\n",
    "            if temp[i]==temp[i+1]:\n",
    "                continue \n",
    "            diff = temp[i+1]-temp[i]\n",
    "            if diff == 1:\n",
    "                flag += 1\n",
    "            else :\n",
    "                ls.append(flag)\n",
    "                flag = 1\n",
    "        if ls == [] :\n",
    "            return flag \n",
    "        else : \n",
    "            return max(ls)"
   ]
  },
  {
   "cell_type": "markdown",
   "id": "e1233214",
   "metadata": {},
   "source": [
    "1. Set is usable for large data sets as creating a set and traversing through it = O(n) less compared to sorted()\n",
    "2. if num in set_num -> time complexity is O(1) as it is an unorderd list \n",
    "3. So overall it takes less time then going with sorted() one but \n",
    "4. Sets do not have index values to search for \n",
    "5. Now below one executes in 55 ms in leetcode "
   ]
  },
  {
   "cell_type": "code",
   "execution_count": null,
   "id": "6efc1b8e",
   "metadata": {},
   "outputs": [],
   "source": [
    "class Solution2: \n",
    "    def longestConsecutive2(self, nums):# List[int]) -> int:\n",
    "        # to check if nums is empty\n",
    "        if nums == []:\n",
    "            return 0\n",
    "        # converting nums into set \n",
    "        temp = set(nums) # imp difference \n",
    "        # temp = list(temp)\n",
    "        longest_sequence = 1\n",
    "        # creating a empty set variable \n",
    "        ls =set()\n",
    "        for num in temp :\n",
    "            # searching in set in O(1)\n",
    "            # to skip already counted nos in while loop below \n",
    "            if num in ls :\n",
    "                continue \n",
    "            if num+1 in temp :\n",
    "                val = num +1\n",
    "                temp_sequence = 1\n",
    "                # loop doesn't run till n elements so O(n2) is not possible \n",
    "                # checking any more consecutive no exists in temp and counting there length and comparing with longest_sequence for every new possibility \n",
    "                while val in temp :\n",
    "                    temp_sequence += 1\n",
    "                    ls.add(val)\n",
    "                    val +=1\n",
    "                # comparing differenct length of sequences if they exists and returning only the biggest continueous streak    \n",
    "                longest_sequence = max(longest_sequence,temp_sequence)\n",
    "        return longest_sequence"
   ]
  },
  {
   "cell_type": "code",
   "execution_count": null,
   "id": "069195ff",
   "metadata": {},
   "outputs": [],
   "source": [
    "sol1 = Solution1()\n",
    "sol2 = Solution2()\n",
    "res1 = sol1.longestConsecutive1([[0,3,2,5,4,6,1,1]])\n",
    "res2 = sol2.longestConsecutive2([[0,3,2,5,4,6,1,1]])\n"
   ]
  }
 ],
 "metadata": {
  "kernelspec": {
   "display_name": "Python 3",
   "language": "python",
   "name": "python3"
  },
  "language_info": {
   "codemirror_mode": {
    "name": "ipython",
    "version": 3
   },
   "file_extension": ".py",
   "mimetype": "text/x-python",
   "name": "python",
   "nbconvert_exporter": "python",
   "pygments_lexer": "ipython3",
   "version": "3.12.5"
  }
 },
 "nbformat": 4,
 "nbformat_minor": 5
}
