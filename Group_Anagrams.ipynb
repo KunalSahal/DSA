{
 "cells": [
  {
   "cell_type": "markdown",
   "id": "50a0810c",
   "metadata": {},
   "source": [
    "### <p style = \"text-align:center;\"><b>Group Anagrams</b></p>\n",
    "\n",
    "1. Given an array of strings strs, group all anagrams together into sublists. You may return the output in any order.\n",
    "\n",
    "2. An anagram is a string that contains the exact same characters as another string, but the order of the characters can be different.\n",
    "\n",
    "3. Example 1:\n",
    "   -> Input: strs = [\"act\",\"pots\",\"tops\",\"cat\",\"stop\",\"hat\"]\n",
    "   -> Output: [[\"hat\"],[\"act\", \"cat\"],[\"stop\", \"pots\", \"tops\"]]"
   ]
  },
  {
   "cell_type": "code",
   "execution_count": 16,
   "id": "4b696397",
   "metadata": {},
   "outputs": [
    {
     "name": "stdout",
     "output_type": "stream",
     "text": [
      "0\n",
      "c\n",
      "1\n",
      "a\n",
      "2\n",
      "r\n",
      "1\n"
     ]
    }
   ],
   "source": [
    "a = \"car\"\n",
    "b = \"rac\"\n",
    "flag = 0 \n",
    "for i , j in enumerate(a):\n",
    "    print(i)\n",
    "    print(j)\n",
    "    if j in b :\n",
    "        flag = 1\n",
    "    else :\n",
    "        flag= 0\n",
    "print(flag)"
   ]
  },
  {
   "cell_type": "code",
   "execution_count": 24,
   "id": "cb7fb2cd",
   "metadata": {},
   "outputs": [
    {
     "ename": "TypeError",
     "evalue": "list indices must be integers or slices, not str",
     "output_type": "error",
     "traceback": [
      "\u001b[31m---------------------------------------------------------------------------\u001b[39m",
      "\u001b[31mTypeError\u001b[39m                                 Traceback (most recent call last)",
      "\u001b[36mCell\u001b[39m\u001b[36m \u001b[39m\u001b[32mIn[24]\u001b[39m\u001b[32m, line 5\u001b[39m\n\u001b[32m      2\u001b[39m target = \u001b[38;5;28msorted\u001b[39m(\u001b[33m\"\u001b[39m\u001b[33mact\u001b[39m\u001b[33m\"\u001b[39m)\n\u001b[32m      4\u001b[39m \u001b[38;5;28;01mfor\u001b[39;00m i \u001b[38;5;129;01min\u001b[39;00m var : \n\u001b[32m----> \u001b[39m\u001b[32m5\u001b[39m     \u001b[38;5;28;01mif\u001b[39;00m (target == \u001b[33m'\u001b[39m\u001b[33m'\u001b[39m.join(\u001b[38;5;28msorted\u001b[39m(\u001b[43mvar\u001b[49m\u001b[43m[\u001b[49m\u001b[43mi\u001b[49m\u001b[43m]\u001b[49m))):\n\u001b[32m      6\u001b[39m         \u001b[38;5;28mprint\u001b[39m(\u001b[38;5;28;01mTrue\u001b[39;00m)\n",
      "\u001b[31mTypeError\u001b[39m: list indices must be integers or slices, not str"
     ]
    }
   ],
   "source": [
    "var = [\"act\",\"pots\",\"tops\",\"cat\",\"stop\",\"hat\"]\n",
    "target = sorted(\"act\")\n",
    "\n",
    "for i in var : \n",
    "    if (target == ''.join(sorted(var[i]))):\n",
    "        print(True)"
   ]
  },
  {
   "cell_type": "code",
   "execution_count": null,
   "id": "77b903a7",
   "metadata": {},
   "outputs": [],
   "source": []
  }
 ],
 "metadata": {
  "kernelspec": {
   "display_name": "Python 3",
   "language": "python",
   "name": "python3"
  },
  "language_info": {
   "codemirror_mode": {
    "name": "ipython",
    "version": 3
   },
   "file_extension": ".py",
   "mimetype": "text/x-python",
   "name": "python",
   "nbconvert_exporter": "python",
   "pygments_lexer": "ipython3",
   "version": "3.12.5"
  }
 },
 "nbformat": 4,
 "nbformat_minor": 5
}
