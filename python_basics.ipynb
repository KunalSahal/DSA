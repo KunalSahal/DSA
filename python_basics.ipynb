{
 "cells": [
  {
   "cell_type": "markdown",
   "id": "15cb947b",
   "metadata": {},
   "source": [
    "1. objects also called as instances \n",
    "2. variables declared in a class -> attributes \n",
    "3. Precedence of obj attribute > class attribute . If both are of same name then obj.attribute_name will return obj attribute's value only \n",
    "4. Same name attribute used when none is to be added if used doesn't provide the obj.attribute value or its not defined in the code "
   ]
  },
  {
   "cell_type": "code",
   "execution_count": null,
   "id": "fa3e4342",
   "metadata": {},
   "outputs": [
    {
     "name": "stdout",
     "output_type": "stream",
     "text": [
      "<__main__.test object at 0x00000206DDE27C80>\n",
      "hei\n",
      "<__main__.test object at 0x00000206DDE0EB70>\n",
      "<__main__.test object at 0x00000206DDE0EB70>\n",
      "<__main__.test object at 0x00000206DDE0EB70>\n",
      "self in another function then constructor :  hi\n",
      "only occupies memory once and can be called by any object\n"
     ]
    }
   ],
   "source": [
    "class test :\n",
    "    # default constructor \n",
    "    #    print(\"default contructor\")\n",
    "\n",
    "    class_attribute = \"only occupies memory once and can be called by any object\"\n",
    "    \n",
    "    # parameterized constructor \n",
    "    def __init__(self):\n",
    "        print(self) \n",
    "        self.nam = \"hei\"\n",
    "        '''\n",
    "        self parameter refers to the current instance of the class \n",
    "        It allows you to access and modify instance variables and methods from within the class.\n",
    "        '''\n",
    "    def demo(self):\n",
    "        print(self)\n",
    "        # vairable with self are object attributes and occupy memory each time new object created also they are used for the value that will be different for all the objects \n",
    "        # It can't be decalred outside the class\n",
    "        self.name = \"hi\" \n",
    "\n",
    "t = test()\n",
    "print(t.nam)\n",
    "t2 = test()\n",
    "t2.demo()\n",
    "print(t2)\n",
    "print(\"self in another function then constructor : \",t2.name)\n",
    "print(t2.class_attribute)"
   ]
  },
  {
   "cell_type": "markdown",
   "id": "448cb4a4",
   "metadata": {},
   "source": [
    "in the output object at 0x0000020772EE8980 is the address where both self and instance are pointing"
   ]
  },
  {
   "cell_type": "code",
   "execution_count": 30,
   "id": "46f59827",
   "metadata": {},
   "outputs": [
    {
     "name": "stdout",
     "output_type": "stream",
     "text": [
      "79.0\n",
      "this method doesn't require self argument\n"
     ]
    }
   ],
   "source": [
    "class Students:\n",
    "    stu_marks = []\n",
    "\n",
    "    def __init__(self, marks):\n",
    "        self.marks = marks\n",
    "        # use ClassName.class_attribute to access inside the attribute\n",
    "        Students.stu_marks.append(marks)\n",
    "        \n",
    "    def get_avg(self):\n",
    "        self.avg = sum(Students.stu_marks)/len(Students.stu_marks)\n",
    "        return self.avg\n",
    "    \n",
    "    # decorator : takes function and converts it into static function which does not require self argument as is only associated with class and takes no input from the object \n",
    "    @staticmethod\n",
    "    def static_method():\n",
    "        print(\"this method doesn't require self argument\") \n",
    "        \n",
    "    \n",
    "s1 = Students(87)\n",
    "s2 = Students(80)\n",
    "s3 = Students(70)\n",
    "\n",
    "print(s1.get_avg())\n",
    "s1.static_method()\n",
    "# if print is above then it will return none is no value is returned and print is already being used inside the method in the class\n"
   ]
  },
  {
   "cell_type": "code",
   "execution_count": null,
   "id": "dc4f4b7a",
   "metadata": {},
   "outputs": [],
   "source": []
  }
 ],
 "metadata": {
  "kernelspec": {
   "display_name": "Python 3",
   "language": "python",
   "name": "python3"
  },
  "language_info": {
   "codemirror_mode": {
    "name": "ipython",
    "version": 3
   },
   "file_extension": ".py",
   "mimetype": "text/x-python",
   "name": "python",
   "nbconvert_exporter": "python",
   "pygments_lexer": "ipython3",
   "version": "3.12.5"
  }
 },
 "nbformat": 4,
 "nbformat_minor": 5
}
