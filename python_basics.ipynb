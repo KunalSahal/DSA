{
 "cells": [
  {
   "cell_type": "markdown",
   "id": "15cb947b",
   "metadata": {},
   "source": [
    "1. objects also called as instances "
   ]
  },
  {
   "cell_type": "code",
   "execution_count": null,
   "id": "fa3e4342",
   "metadata": {},
   "outputs": [
    {
     "name": "stdout",
     "output_type": "stream",
     "text": [
      "<__main__.test object at 0x0000020772D96CF0>\n",
      "<__main__.test object at 0x0000020772D96CF0>\n"
     ]
    }
   ],
   "source": [
    "class test :\n",
    "    # def __init__(self):\n",
    "        print(self)\n",
    "        \n",
    "t = test()\n",
    "print(t)"
   ]
  },
  {
   "cell_type": "code",
   "execution_count": null,
   "id": "448cb4a4",
   "metadata": {},
   "outputs": [],
   "source": []
  }
 ],
 "metadata": {
  "kernelspec": {
   "display_name": "Python 3",
   "language": "python",
   "name": "python3"
  },
  "language_info": {
   "codemirror_mode": {
    "name": "ipython",
    "version": 3
   },
   "file_extension": ".py",
   "mimetype": "text/x-python",
   "name": "python",
   "nbconvert_exporter": "python",
   "pygments_lexer": "ipython3",
   "version": "3.12.5"
  }
 },
 "nbformat": 4,
 "nbformat_minor": 5
}
