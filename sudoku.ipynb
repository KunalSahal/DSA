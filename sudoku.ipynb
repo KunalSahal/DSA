{
 "cells": [
  {
   "cell_type": "markdown",
   "id": "53d859de",
   "metadata": {},
   "source": [
    "Agile methodology in software development   \n",
    "    Scrum framework\n",
    "    github copilot \n",
    "    python and R\n",
    "    hackhazard\n",
    "    use chatgpt to go through all the technical aspects about it \n",
    "\n",
    "Jeer , Scrum , Cost estimation tools "
   ]
  },
  {
   "cell_type": "code",
   "execution_count": 10,
   "id": "57fc5ac0",
   "metadata": {},
   "outputs": [
    {
     "name": "stdout",
     "output_type": "stream",
     "text": [
      "repeat in a row so outcome is :  False\n",
      "repeat in a column so outcome is :  False\n",
      "repeat in a 3x3 box so outcome is :  False\n",
      "No repeat in a row, column or box so outcome is :  True\n"
     ]
    }
   ],
   "source": [
    "class Solution:\n",
    "    def isValidSudoku(self, board):\n",
    "        \n",
    "        # to check row repetation \n",
    "        for i in range(len(board)):\n",
    "            flag = []\n",
    "            for j in range(len(board[i])):\n",
    "                if board[i][j] in flag and board[i][j] != \".\":\n",
    "                    return False\n",
    "                flag.append(board[i][j])\n",
    "\n",
    "        # to check 3x3 box repetation\n",
    "        for i in range(len(board)):\n",
    "            if i == 0 or i == 3 or i == 6 :\n",
    "                ls1 = [[\"`\"] for _ in range(3)] \n",
    "            for j in range(len(board[i])):\n",
    "                if j <=2 and board[i][j] not in ls1[0] and board[i][j] != \".\":\n",
    "                    ls1[0].append(board[i][j])\n",
    "                elif j > 2 and j <=5 and board[i][j] not in ls1[1] and board[i][j] != \".\":\n",
    "                    ls1[1].append(board[i][j])\n",
    "                elif j>5 and j < 9 and board[i][j] not in ls1[2] and board[i][j] != \".\" :\n",
    "                    ls1[2].append(board[i][j])\n",
    "                elif board[i][j] == \".\" :\n",
    "                    continue  \n",
    "                else :\n",
    "                    return False\n",
    "            if i == 2 or i == 5 :\n",
    "                ls1.clear()\n",
    "\n",
    "        # to check column repetation\n",
    "        for i in range(len(board)):\n",
    "            ls2 = []\n",
    "            for j in range(len(board[i])):\n",
    "                if board[j][i] in ls2 and board[j][i] != \".\":\n",
    "                    return False \n",
    "                ls2.append(board[j][i])\n",
    "            ls2.clear()\n",
    "            \n",
    "        return True \n",
    " \n",
    "# repeat in a row - false outcome     \n",
    "ls1 = [[\"7\",\".\",\".\",\".\",\"4\",\".\",\".\",\".\",\".\"],[\".\",\".\",\".\",\"8\",\"6\",\"5\",\".\",\".\",\".\"],[\".\",\"1\",\".\",\"2\",\".\",\".\",\".\",\".\",\".\"],[\".\",\".\",\".\",\".\",\".\",\"9\",\".\",\".\",\".\"],[\".\",\".\",\".\",\".\",\"5\",\".\",\"5\",\".\",\".\"],[\".\",\".\",\".\",\".\",\".\",\".\",\".\",\".\",\".\"],[\".\",\".\",\".\",\".\",\".\",\".\",\"2\",\".\",\".\"],[\".\",\".\",\".\",\".\",\".\",\".\",\".\",\".\",\".\"],[\".\",\".\",\".\",\".\",\".\",\".\",\".\",\".\",\".\"]] \n",
    "# repeat in a column - false outcome\n",
    "ls2 = [[\".\",\".\",\"4\",\".\",\".\",\".\",\"6\",\"3\",\".\"],[\".\",\".\",\".\",\".\",\".\",\".\",\".\",\".\",\".\"],[\"5\",\".\",\".\",\".\",\".\",\".\",\".\",\"9\",\".\"],[\".\",\".\",\".\",\"5\",\"6\",\".\",\".\",\".\",\".\"],[\"4\",\".\",\"3\",\".\",\".\",\".\",\".\",\".\",\"1\"],[\".\",\".\",\".\",\"7\",\".\",\".\",\".\",\".\",\".\"],[\".\",\".\",\".\",\"5\",\".\",\".\",\".\",\".\",\".\"],[\".\",\".\",\".\",\".\",\".\",\".\",\".\",\".\",\".\"],[\".\",\".\",\".\",\".\",\".\",\".\",\".\",\".\",\".\"]] \n",
    "# 3x3 box repeat - false value \n",
    "ls3 = [[\"1\",\"2\",\".\",\".\",\"3\",\".\",\".\",\".\",\".\"],[\"4\",\".\",\".\",\"5\",\".\",\".\",\".\",\".\",\".\"],[\".\",\"9\",\"1\",\".\",\".\",\".\",\".\",\".\",\"3\"],[\"5\",\".\",\".\",\".\",\"6\",\".\",\".\",\".\",\"4\"],[\".\",\".\",\".\",\"8\",\".\",\"3\",\".\",\".\",\"5\"],[\"7\",\".\",\".\",\".\",\"2\",\".\",\".\",\".\",\"6\"],[\".\",\".\",\".\",\".\",\".\",\".\",\"2\",\".\",\".\"],[\".\",\".\",\".\",\"4\",\"1\",\"9\",\".\",\".\",\"8\"],[\".\",\".\",\".\",\".\",\"8\",\".\",\".\",\"7\",\"9\"]]\n",
    "# No repeat in row, column or 3x3 box - true outcome \n",
    "ls4 = [[\"1\",\"2\",\".\",\".\",\"3\",\".\",\".\",\".\",\".\"],[\"4\",\".\",\".\",\"5\",\".\",\".\",\".\",\".\",\".\"],[\".\",\"9\",\"8\",\".\",\".\",\".\",\".\",\".\",\"3\"],[\"5\",\".\",\".\",\".\",\"6\",\".\",\".\",\".\",\"4\"],[\".\",\".\",\".\",\"8\",\".\",\"3\",\".\",\".\",\"5\"],[\"7\",\".\",\".\",\".\",\"2\",\".\",\".\",\".\",\"6\"],[\".\",\".\",\".\",\".\",\".\",\".\",\"2\",\".\",\".\"],[\".\",\".\",\".\",\"4\",\"1\",\"9\",\".\",\".\",\"8\"],[\".\",\".\",\".\",\".\",\"8\",\".\",\".\",\"7\",\"9\"]]\n",
    "\n",
    "obj = Solution()\n",
    "print(\"repeat in a row so outcome is : \",obj.isValidSudoku(ls1))\n",
    "print(\"repeat in a column so outcome is : \",obj.isValidSudoku(ls2))\n",
    "print(\"repeat in a 3x3 box so outcome is : \",obj.isValidSudoku(ls3))\n",
    "print(\"No repeat in a row, column or box so outcome is : \",obj.isValidSudoku(ls4))"
   ]
  },
  {
   "cell_type": "markdown",
   "id": "cc8a98eb",
   "metadata": {},
   "source": []
  }
 ],
 "metadata": {
  "kernelspec": {
   "display_name": "Python 3",
   "language": "python",
   "name": "python3"
  },
  "language_info": {
   "codemirror_mode": {
    "name": "ipython",
    "version": 3
   },
   "file_extension": ".py",
   "mimetype": "text/x-python",
   "name": "python",
   "nbconvert_exporter": "python",
   "pygments_lexer": "ipython3",
   "version": "3.12.5"
  }
 },
 "nbformat": 4,
 "nbformat_minor": 5
}
