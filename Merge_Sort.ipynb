{
 "cells": [
  {
   "cell_type": "code",
   "execution_count": 34,
   "id": "41cf02b0",
   "metadata": {},
   "outputs": [
    {
     "data": {
      "text/plain": [
       "[',', ',', ',', ',', '0', '1', '2', '4', '4', '5', '[', ']']"
      ]
     },
     "execution_count": 34,
     "metadata": {},
     "output_type": "execute_result"
    }
   ],
   "source": [
    "def merge_sort(arr):\n",
    "    if(len(arr) ==1):\n",
    "        return  arr\n",
    "    mid = len(arr) // 2\n",
    "    left_arr = arr[:mid]\n",
    "    right_arr = arr[mid:]\n",
    "    \n",
    "    split_left_arr = merge_sort(left_arr)\n",
    "    split_right_arr = merge_sort(right_arr) \n",
    "    \n",
    "    return merge(split_left_arr,split_right_arr)\n",
    "\n",
    "def merge (left_arr,right_arr):\n",
    "    res = []\n",
    "    i = j = 0\n",
    "    \n",
    "    while i < len(left_arr) and j < len(right_arr):\n",
    "        if left_arr[i] < right_arr[j]:\n",
    "            res.append(left_arr[i])\n",
    "            i+=1\n",
    "        else :\n",
    "            res.append(right_arr[j])\n",
    "            j+=1\n",
    "            \n",
    "    res.extend(left_arr[i:])  \n",
    "    res.extend(right_arr[j:])\n",
    "    \n",
    "    return res\n",
    "    \n",
    "merge_sort(input())"
   ]
  },
  {
   "cell_type": "code",
   "execution_count": 1,
   "id": "2b5b9b5d",
   "metadata": {},
   "outputs": [],
   "source": [
    "#[10,2] -(mergesort)-> [10] [2] -(merge)-> [2,10]                                    -(merge)->[1,2,4,5,10]\n",
    "#[4,5,1] -(mergesort)->[4]                                         -(merge)->[1,4,5]\n",
    "#                      [5,1] -(mergesort)->[5] [1] -(merge)-> [1,5]"
   ]
  },
  {
   "cell_type": "markdown",
   "id": "b01fedcd",
   "metadata": {},
   "source": []
  }
 ],
 "metadata": {
  "kernelspec": {
   "display_name": "Python 3",
   "language": "python",
   "name": "python3"
  },
  "language_info": {
   "codemirror_mode": {
    "name": "ipython",
    "version": 3
   },
   "file_extension": ".py",
   "mimetype": "text/x-python",
   "name": "python",
   "nbconvert_exporter": "python",
   "pygments_lexer": "ipython3",
   "version": "3.12.5"
  }
 },
 "nbformat": 4,
 "nbformat_minor": 5
}
