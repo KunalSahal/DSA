{
 "cells": [
  {
   "cell_type": "markdown",
   "id": "d6538239",
   "metadata": {},
   "source": [
    "### <p style = \"text-align:center;\"><b>Two Sum</b></p>\n",
    "    \n",
    "1. Given an array of integers nums and an integer target, return the indices i and j such that nums[i] + nums[j] == target and i != j.\n",
    "\n",
    "2. You may assume that every input has exactly one pair of indices i and j that satisfy the condition.\n",
    "\n",
    "3. Return the answer with the smaller index first."
   ]
  },
  {
   "cell_type": "code",
   "execution_count": null,
   "id": "3cad9f5a",
   "metadata": {},
   "outputs": [
    {
     "name": "stdout",
     "output_type": "stream",
     "text": [
      "[0, 2]\n"
     ]
    }
   ],
   "source": [
    "class Solution:\n",
    "    def twoSum(self, nums: list[True], target: int) -> []:\n",
    "        hash_map = {}\n",
    "        for index,num_at_index in enumerate(nums):\n",
    "            temp = target - num_at_index\n",
    "            if temp in hash_map:\n",
    "                return[hash_map[temp], index] # hash_map[temp] -> returns index value associated with it\n",
    "            hash_map[num_at_index] = index \n",
    "            # stores value(num_at_index) as key and index as its associated value\n",
    "            \n",
    "            \n",
    "obj = Solution()\n",
    "print(obj.twoSum([4,5,6],10))"
   ]
  },
  {
   "cell_type": "markdown",
   "id": "5b2ab0c2",
   "metadata": {},
   "source": [
    "# Hash_map :\n",
    "1. A \"hash map\" is just another name for what Python calls a dictionary (dict). I used the term \"hash map\" because it's a common term in computer science and algorithms discussions, especially when explaining the underlying data structure.\n",
    "\n",
    "2. In Python specifically, we implement a hash map using the built-in dictionary data structure. \n",
    "\n",
    "3. Store data as key-value pairs\n",
    "4. Allow O(1) average time complexity for lookups, insertions, and deletions\n",
    "5. Use a hashing function internally to determine where to store values"
   ]
  },
  {
   "cell_type": "code",
   "execution_count": 10,
   "id": "2d7281a4",
   "metadata": {},
   "outputs": [
    {
     "name": "stdout",
     "output_type": "stream",
     "text": [
      "{2: 0}\n",
      "{2: 0, 3: 1}\n",
      "{2: 0, 3: 2}\n",
      "{2: 0, 3: 2, 4: 3}\n",
      "{2: 0, 3: 2, 4: 3, 5: 4}\n",
      "2\n"
     ]
    }
   ],
   "source": [
    "nums = [2,3,3,4,5]\n",
    "temp = {}\n",
    "for i, num in enumerate(nums):\n",
    "    temp[num] = i\n",
    "    print(temp)\n",
    "print(temp[3])"
   ]
  },
  {
   "cell_type": "markdown",
   "id": "1b062930",
   "metadata": {},
   "source": [
    "# Enumerte loop : \n",
    "    Loops over nums using enumerate, which gives both:\n",
    "        -> i: the index,\n",
    "        -> num: the value at that index"
   ]
  },
  {
   "cell_type": "markdown",
   "id": "00449f4d",
   "metadata": {},
   "source": []
  }
 ],
 "metadata": {
  "kernelspec": {
   "display_name": "Python 3",
   "language": "python",
   "name": "python3"
  },
  "language_info": {
   "codemirror_mode": {
    "name": "ipython",
    "version": 3
   },
   "file_extension": ".py",
   "mimetype": "text/x-python",
   "name": "python",
   "nbconvert_exporter": "python",
   "pygments_lexer": "ipython3",
   "version": "3.12.5"
  }
 },
 "nbformat": 4,
 "nbformat_minor": 5
}
