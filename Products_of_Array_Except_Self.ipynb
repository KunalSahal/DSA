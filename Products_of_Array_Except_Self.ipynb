{
 "cells": [
  {
   "cell_type": "code",
   "execution_count": 4,
   "id": "2fd65fbb",
   "metadata": {},
   "outputs": [
    {
     "name": "stdout",
     "output_type": "stream",
     "text": [
      "0\n",
      "1\n",
      "2\n"
     ]
    }
   ],
   "source": [
    "arr = [1,2,3]\n",
    "for i in range(3) :\n",
    "    print(i)"
   ]
  },
  {
   "cell_type": "code",
   "execution_count": null,
   "id": "ddd02679",
   "metadata": {},
   "outputs": [],
   "source": [
    "import math\n",
    "class Solution:\n",
    "    def productExceptSelf(self, nums: List[int]) -> List[int]:\n",
    "        ls = [0]*len(nums)\n",
    "        mid_term = nums[1:-1]\n",
    "        mid_term_product=math.prod(mid_term)\n",
    "        end_term_product=(nums[0]*nums[-1])\n",
    "        ls[0]=mid_term_product*nums[-1]\n",
    "        ls[-1]=mid_term_product*nums[0]\n",
    "        # print(ls)\n",
    "        for i in range(1,len(mid_term)+1):\n",
    "            if mid_term[i] == 0 :\n",
    "                temp = mid_term\n",
    "                print(temp)\n",
    "                temp.pop(i)\n",
    "                ls[i] = math.prod(temp)\n",
    "                continue \n",
    "            ls[i] = end_term_product * (mid_term_product//nums[i])\n",
    "        return ls\n"
   ]
  }
 ],
 "metadata": {
  "kernelspec": {
   "display_name": "Python 3",
   "language": "python",
   "name": "python3"
  },
  "language_info": {
   "codemirror_mode": {
    "name": "ipython",
    "version": 3
   },
   "file_extension": ".py",
   "mimetype": "text/x-python",
   "name": "python",
   "nbconvert_exporter": "python",
   "pygments_lexer": "ipython3",
   "version": "3.12.5"
  }
 },
 "nbformat": 4,
 "nbformat_minor": 5
}
