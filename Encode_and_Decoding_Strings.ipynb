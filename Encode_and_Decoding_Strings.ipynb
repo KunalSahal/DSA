{
 "cells": [
  {
   "cell_type": "code",
   "execution_count": 2,
   "id": "f48d1431",
   "metadata": {},
   "outputs": [
    {
     "name": "stdout",
     "output_type": "stream",
     "text": [
      "['neet', 'code', 'love', 'you']\n"
     ]
    }
   ],
   "source": [
    "class Solution:\n",
    "\n",
    "    def encode(self, strs):#: List[str]) -> str:\n",
    "        if strs == []:\n",
    "            return \"0\"\n",
    "        var = \"`\".join(strs)\n",
    "        return var\n",
    "    def decode(self, s):#: str) -> List[str]:\n",
    "        if s == \"0\":\n",
    "            return []\n",
    "        ls = s.split(\"`\")\n",
    "        return ls\n",
    "    \n",
    "obj = Solution()\n",
    "str = obj.encode([\"neet\",\"code\",\"love\",\"you\"])\n",
    "print(obj.decode(str))\n"
   ]
  },
  {
   "cell_type": "code",
   "execution_count": null,
   "id": "089b289e",
   "metadata": {},
   "outputs": [],
   "source": []
  }
 ],
 "metadata": {
  "kernelspec": {
   "display_name": "Python 3",
   "language": "python",
   "name": "python3"
  },
  "language_info": {
   "codemirror_mode": {
    "name": "ipython",
    "version": 3
   },
   "file_extension": ".py",
   "mimetype": "text/x-python",
   "name": "python",
   "nbconvert_exporter": "python",
   "pygments_lexer": "ipython3",
   "version": "3.12.5"
  }
 },
 "nbformat": 4,
 "nbformat_minor": 5
}
