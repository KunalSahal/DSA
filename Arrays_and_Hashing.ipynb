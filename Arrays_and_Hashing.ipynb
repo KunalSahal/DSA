{
 "cells": [
  {
   "cell_type": "markdown",
   "metadata": {},
   "source": [
    "# <p style=\"text-align: center;\">Score of a String</p>\n",
    "    sum of absolute values obtained by substracting adjacent chracter's ASCII values of a string "
   ]
  },
  {
   "cell_type": "code",
   "execution_count": null,
   "metadata": {},
   "outputs": [
    {
     "name": "stdout",
     "output_type": "stream",
     "text": [
      "13\n"
     ]
    }
   ],
   "source": [
    "class Solution:\n",
    "    def scoreOfString(self, s: str) -> int:\n",
    "        result = 0\n",
    "        for i in range(len(s)-1): #loop only runs till the last second char as i+1\n",
    "            result = abs(ord(s[i])-ord(s[i+1])) + result\n",
    "        return result\n",
    "obj = Solution()\n",
    "# string = input()\n",
    "# var = string.replace('\"', '')\n",
    "# print(var)\n",
    "print(obj.scoreOfString(\"hello\"))\n",
    "#comment"
   ]
  },
  {
   "cell_type": "markdown",
   "metadata": {},
   "source": [
    "1. abs = returns only positive integer\n",
    "2. ord = returns ascii value of a particular character (converting it into int)\n",
    "3. replace = removes the characters mentioned inside the bracket from the user input\n",
    "4. -> int = expected return value is int"
   ]
  },
  {
   "cell_type": "markdown",
   "metadata": {},
   "source": [
    "# <p style=\"text-align: center;\">Contains Duplicate</p>\n",
    "    Given an integer array nums, return true if any value appears more than once in the array, otherwise return false."
   ]
  },
  {
   "cell_type": "code",
   "execution_count": null,
   "metadata": {},
   "outputs": [
    {
     "name": "stdout",
     "output_type": "stream",
     "text": [
      "[1, 1, 2, 4]\n"
     ]
    },
    {
     "data": {
      "text/plain": [
       "True"
      ]
     },
     "execution_count": 4,
     "metadata": {},
     "output_type": "execute_result"
    }
   ],
   "source": [
    "class Solution:\n",
    "    def hasDuplicate(self, nums) -> bool:\n",
    "        flag = 0\n",
    "        nums.sort() # sorts array\n",
    "        print(nums)\n",
    "        for i in range(len(nums)):\n",
    "            if(i == (len(nums)-1)):\n",
    "                break\n",
    "            if(nums[i]==nums[i+1]):\n",
    "                flag =1\n",
    "                break\n",
    "        if (flag == 1):\n",
    "            return True\n",
    "        else:\n",
    "            return False\n",
    "        \n",
    "obj = Solution()\n",
    "nums = [1,2,4,1]\n",
    "obj.hasDuplicate(nums)"
   ]
  },
  {
   "cell_type": "markdown",
   "metadata": {},
   "source": [
    "# <p style = \"text-align : center;\">Valid Anagram</p>\n",
    "    An anagram is a string that contains the exact same characters as another string, but the order of the characters can be different.\n",
    "    Given two strings s and t, return true if the two strings are anagrams of each other, otherwise return false.\n",
    "### O(n+m) -> can use two seperate loops for two strings \n",
    "### O(n*m) -> can use nested loops for two strings "
   ]
  },
  {
   "cell_type": "code",
   "execution_count": 1,
   "metadata": {},
   "outputs": [
    {
     "name": "stdout",
     "output_type": "stream",
     "text": [
      "True\n"
     ]
    }
   ],
   "source": [
    "v = []\n",
    "z = []\n",
    "s = \"racecar\"\n",
    "p = \"carrace\"\n",
    "\n",
    "v = list(s) # converts string into list\n",
    "z = list(p)\n",
    "# for i in range(len(s)):\n",
    "#     v.append(s[i])\n",
    "#     print(v)\n",
    "v.sort() # sorting list whether int or char gets sorted in ascending order\n",
    "z.sort()\n",
    "print(v == z) # retruns true is both list have same value as well no.of characters "
   ]
  },
  {
   "cell_type": "code",
   "execution_count": 1,
   "metadata": {},
   "outputs": [],
   "source": [
    "# var.append(i,j) is wrong syntax as append takes only one argument"
   ]
  },
  {
   "cell_type": "code",
   "execution_count": 7,
   "metadata": {},
   "outputs": [
    {
     "name": "stdout",
     "output_type": "stream",
     "text": [
      "{2: 0}\n",
      "{2: 0, 3: 1}\n",
      "{2: 0, 3: 2}\n",
      "{2: 0, 3: 2, 4: 3}\n",
      "{2: 0, 3: 2, 4: 3, 5: 4}\n",
      "2\n"
     ]
    }
   ],
   "source": [
    "nums = [2,3,3,4,5]\n",
    "temp = {}\n",
    "for i, num in enumerate(nums):\n",
    "    temp[num] = i\n",
    "    print(temp)\n",
    "print(temp[3])"
   ]
  },
  {
   "cell_type": "code",
   "execution_count": null,
   "metadata": {},
   "outputs": [],
   "source": []
  }
 ],
 "metadata": {
  "kernelspec": {
   "display_name": "Python 3",
   "language": "python",
   "name": "python3"
  },
  "language_info": {
   "codemirror_mode": {
    "name": "ipython",
    "version": 3
   },
   "file_extension": ".py",
   "mimetype": "text/x-python",
   "name": "python",
   "nbconvert_exporter": "python",
   "pygments_lexer": "ipython3",
   "version": "3.12.5"
  }
 },
 "nbformat": 4,
 "nbformat_minor": 2
}
