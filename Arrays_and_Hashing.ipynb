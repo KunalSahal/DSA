{
 "cells": [
  {
   "cell_type": "markdown",
   "metadata": {},
   "source": [
    "# <p style=\"text-align: center;\">Score of a String</p>\n",
    "    sum of absolute values obtained by substracting adjacent chracter's ASCII values of a string "
   ]
  },
  {
   "cell_type": "code",
   "execution_count": null,
   "metadata": {},
   "outputs": [
    {
     "name": "stdout",
     "output_type": "stream",
     "text": [
      "13\n"
     ]
    }
   ],
   "source": [
    "class Solution:\n",
    "    def scoreOfString(self, s: str) -> int:\n",
    "        result = 0\n",
    "        for i in range(len(s)-1): #loop only runs till the last second char as i+1\n",
    "            result = abs(ord(s[i])-ord(s[i+1])) + result\n",
    "        return result\n",
    "obj = Solution()\n",
    "# string = input()\n",
    "# var = string.replace('\"', '')\n",
    "# print(var)\n",
    "print(obj.scoreOfString(\"hello\"))\n",
    "#comment"
   ]
  },
  {
   "cell_type": "markdown",
   "metadata": {},
   "source": [
    "1. abs = returns only positive integer\n",
    "2. ord = returns ascii value of a particular character (converting it into int)\n",
    "3. replace = removes the characters mentioned inside the bracket from the user input\n",
    "4. -> int = expected return value is int"
   ]
  },
  {
   "cell_type": "markdown",
   "metadata": {},
   "source": []
  }
 ],
 "metadata": {
  "kernelspec": {
   "display_name": "Python 3",
   "language": "python",
   "name": "python3"
  },
  "language_info": {
   "codemirror_mode": {
    "name": "ipython",
    "version": 3
   },
   "file_extension": ".py",
   "mimetype": "text/x-python",
   "name": "python",
   "nbconvert_exporter": "python",
   "pygments_lexer": "ipython3",
   "version": "3.12.5"
  }
 },
 "nbformat": 4,
 "nbformat_minor": 2
}
